{
 "cells": [
  {
   "cell_type": "code",
   "execution_count": 64,
   "metadata": {},
   "outputs": [],
   "source": [
    "import os\n",
    "import json\n",
    "import pandas as pd\n",
    "\n",
    "\n",
    "\n",
    "BIDS_DIR = '/Volumes/vosslabhpc/Projects/BikeExtend/3-Experiment/2-Data/BIDS'\n",
    "SOURCE_DIR = '/Volumes/vosslabhpc/Projects/BikeExtend/3-Experiment/2-Data/BIDS/sourcedata'"
   ]
  },
  {
   "cell_type": "code",
   "execution_count": 65,
   "metadata": {},
   "outputs": [],
   "source": [
    "csv = pd.read_csv('/Volumes/vosslabhpc/Projects/BikeExtend/3-Experiment/2-Data/BIDS/derivatives/datacheck/EXTEND_jsonCHECK_S24.csv')\n",
    "\n"
   ]
  },
  {
   "cell_type": "code",
   "execution_count": 66,
   "metadata": {},
   "outputs": [
    {
     "data": {
      "text/plain": [
       "'\\nfor i in range(len(csv)):\\n    if csv.iloc[i, 1] < 86 and csv.iloc[i, 1] != 0:\\n        bad_subs.append(csv.iloc[i, 0]\\n                          )\\n'"
      ]
     },
     "execution_count": 66,
     "metadata": {},
     "output_type": "execute_result"
    }
   ],
   "source": [
    "# if any of columns B through R are less than 86 but not 0, add subject (column A) to list\n",
    "\n",
    "bad_subs = ['sub-999']\n",
    "'''\n",
    "for i in range(len(csv)):\n",
    "    if csv.iloc[i, 1] < 86 and csv.iloc[i, 1] != 0:\n",
    "        bad_subs.append(csv.iloc[i, 0]\n",
    "                          )\n",
    "'''"
   ]
  },
  {
   "cell_type": "code",
   "execution_count": 67,
   "metadata": {},
   "outputs": [
    {
     "data": {
      "text/plain": [
       "['sub-999']"
      ]
     },
     "execution_count": 67,
     "metadata": {},
     "output_type": "execute_result"
    }
   ],
   "source": [
    "bad_subs"
   ]
  },
  {
   "cell_type": "code",
   "execution_count": 68,
   "metadata": {},
   "outputs": [],
   "source": [
    "BIDS_DIR = '/Volumes/vosslabhpc/Projects/BikeExtend/3-Experiment/2-Data/BIDS'\n",
    "SOURCE_DIR = '/Volumes/vosslabhpc/Projects/BikeExtend/3-Experiment/2-Data/BIDS/sourcedata'"
   ]
  },
  {
   "cell_type": "code",
   "execution_count": 69,
   "metadata": {},
   "outputs": [],
   "source": [
    "# for all subjects in bad_subs, enter the following directories and store the path to all json files\n",
    "# in each directory, enter either func or dwi folders to look for jsons\n",
    "dirs = ['ses-day1pre', 'ses-day1post', 'ses-day2pre', 'ses-day2post', 'ses-post']\n",
    "\n",
    "jsons = []\n",
    "\n",
    "for sub in bad_subs:\n",
    "    #first enter the sub directory\n",
    "    sub_dir = os.path.join(BIDS_DIR, sub)\n",
    "    #then enter each directory in dirs\n",
    "    for d in dirs:\n",
    "        d_dir = os.path.join(sub_dir, d)\n",
    "        #then enter either func or dwi, if they exist\n",
    "        if os.path.exists(os.path.join(d_dir, 'func')):\n",
    "            func_dir = os.path.join(d_dir, 'func')\n",
    "            for file in os.listdir(func_dir):\n",
    "                if file.endswith('.json'):\n",
    "                    jsons.append(os.path.join(func_dir, file))\n",
    "        if os.path.exists(os.path.join(d_dir, 'dwi')):\n",
    "            dwi_dir = os.path.join(d_dir, 'dwi')\n",
    "            for file in os.listdir(dwi_dir):\n",
    "                if file.endswith('.json'):\n",
    "                    jsons.append(os.path.join(dwi_dir, file))"
   ]
  },
  {
   "cell_type": "code",
   "execution_count": 70,
   "metadata": {},
   "outputs": [
    {
     "data": {
      "text/plain": [
       "['/Volumes/vosslabhpc/Projects/BikeExtend/3-Experiment/2-Data/BIDS/sub-999/ses-day1pre/func/sub-999_ses-day1pre_task-breathhold_bold.json',\n",
       " '/Volumes/vosslabhpc/Projects/BikeExtend/3-Experiment/2-Data/BIDS/sub-999/ses-day1pre/func/sub-999_ses-day1pre_task-rest_run-1_bold.json',\n",
       " '/Volumes/vosslabhpc/Projects/BikeExtend/3-Experiment/2-Data/BIDS/sub-999/ses-day1pre/dwi/sub-999_ses-day1pre_dwi.json']"
      ]
     },
     "execution_count": 70,
     "metadata": {},
     "output_type": "execute_result"
    }
   ],
   "source": [
    "jsons"
   ]
  },
  {
   "cell_type": "code",
   "execution_count": 71,
   "metadata": {},
   "outputs": [
    {
     "data": {
      "text/plain": [
       "['/Volumes/vosslabhpc/Projects/BikeExtend/3-Experiment/2-Data/BIDS/sourcedata/sub-999_ses-day1pre/scans/7-dwi']"
      ]
     },
     "execution_count": 71,
     "metadata": {},
     "output_type": "execute_result"
    }
   ],
   "source": [
    "# In SOURCE_DIR, go through all directories that start with subs in bad_subs\n",
    "# in each directory, if has ses-day1pre, scan the following directory /scans and save path for folders that start with 4,5,6,7\n",
    "#if directory has ses-day2pre, scan the following directory /scans and save path for folders that start with 4,5,6,7\n",
    "# if directory has ses-day1post or day2post, scan the following directory /scans and save path for folders that start with 4,5,6\n",
    "# if directory has ses-post, scan the following directory /scans and save path for folders that start with 4,5,6,7,10\n",
    "#s.startswith('4-') or s.startswith('5-') or s.startswith('6-') or\n",
    "\n",
    "folders = []\n",
    "\n",
    "for sub in bad_subs:\n",
    "    for d in os.listdir(SOURCE_DIR):\n",
    "        if d.startswith(sub):\n",
    "            if d == sub + '_ses-day1pre':\n",
    "                d_dir = os.path.join(SOURCE_DIR, d)\n",
    "                for s in os.listdir(os.path.join(d_dir, 'scans')):\n",
    "                    #replace here\n",
    "                    if  s.startswith('7-'):\n",
    "                        folders.append(os.path.join(d_dir, 'scans', s))\n",
    "            if d == sub + '_ses-day2pre':\n",
    "                d_dir = os.path.join(SOURCE_DIR, d)\n",
    "                for s in os.listdir(os.path.join(d_dir, 'scans')):\n",
    "                    if s.startswith('4-') or s.startswith('5-') or s.startswith('6-') or s.startswith('7-'):\n",
    "                        folders.append(os.path.join(d_dir, 'scans', s))\n",
    "            if d == sub + '_ses-day1post' or d == sub + '_ses-day2post':\n",
    "                d_dir = os.path.join(SOURCE_DIR, d)\n",
    "                for s in os.listdir(os.path.join(d_dir, 'scans')):\n",
    "                    if s.startswith('4-') or s.startswith('5-') or s.startswith('6-'):\n",
    "                        folders.append(os.path.join(d_dir, 'scans', s))\n",
    "            if d == sub + '_ses-post':\n",
    "                d_dir = os.path.join(SOURCE_DIR, d)\n",
    "                for s in os.listdir(os.path.join(d_dir, 'scans')):\n",
    "                    if s.startswith('4-') or s.startswith('5-') or s.startswith('6-') or s.startswith('7-') or s.startswith('10-'):\n",
    "                        folders.append(os.path.join(d_dir, 'scans', s))\n",
    "\n",
    "\n",
    "folders"
   ]
  },
  {
   "cell_type": "code",
   "execution_count": 72,
   "metadata": {},
   "outputs": [
    {
     "data": {
      "text/plain": [
       "['/Volumes/vosslabhpc/Projects/BikeExtend/3-Experiment/2-Data/BIDS/sourcedata/sub-999_ses-day1pre/scans/7-dwi/resources/DICOM/files']"
      ]
     },
     "execution_count": 72,
     "metadata": {},
     "output_type": "execute_result"
    }
   ],
   "source": [
    "# for each in folders add /resources/DICOM/files to the end of the path\n",
    "dicoms = []\n",
    "for f in folders:\n",
    "    dicoms.append(os.path.join(f, 'resources/DICOM/files'))\n",
    "\n",
    "dicoms"
   ]
  },
  {
   "cell_type": "code",
   "execution_count": 73,
   "metadata": {},
   "outputs": [
    {
     "data": {
      "text/plain": [
       "['/Volumes/vosslabhpc/Projects/BikeExtend/3-Experiment/2-Data/BIDS/sub-999/ses-day1pre/dwi']"
      ]
     },
     "execution_count": 73,
     "metadata": {},
     "output_type": "execute_result"
    }
   ],
   "source": [
    "# for each in dicoms, find the output path in the BIDS directory for that subject, session and scan\n",
    "\n",
    "output_path = []\n",
    "\n",
    "for d in dicoms:    \n",
    "\n",
    "    # get the subject and session\n",
    "    sub = d.split('/')[-6].split('_')[0]\n",
    "    ses = d.split('/')[-6].split('_')[1]\n",
    "    scan = d.split('/')[-4]\n",
    "\n",
    "\n",
    "    #if scan contains func, then output path is /func\n",
    "    #if scan contains breathold, output path is /func\n",
    "    #if scan contains dwi, then output path is /dwi\n",
    "\n",
    "    if 'func' in scan or 'breathhold' in scan:\n",
    "        output_path.append(os.path.join(BIDS_DIR, sub, ses, 'func'))\n",
    "    if 'dwi' in scan:\n",
    "        output_path.append(os.path.join(BIDS_DIR, sub, ses, 'dwi'))\n",
    "    \n",
    "output_path\n"
   ]
  },
  {
   "cell_type": "code",
   "execution_count": 78,
   "metadata": {},
   "outputs": [],
   "source": [
    "csv = pd.read_csv('/Volumes/vosslabhpc/Projects/BikeExtend/3-Experiment/2-Data/BIDS/derivatives/datacheck/EXTEND_jsonCHECK_S24.csv')\n",
    "\n",
    "\n",
    "\n",
    "# if any of columns B through R are less than 86 but not 0, add subject (column A) to list\n",
    "\n",
    "bad_subs = []\n",
    "for i in range(len(csv)):\n",
    "    if csv.iloc[i, 1] < 86 and csv.iloc[i, 1] != 0:\n",
    "        bad_subs.append(csv.iloc[i, 0]\n",
    "                          )\n",
    "#save bad_subs to a file\n",
    "\n",
    "with open('/Volumes/vosslabhpc/Projects/BikeExtend/3-Experiment/2-Data/BIDS/derivatives/Zak/code/json_qc_s-24/bad_subs.txt', 'w') as f:\n",
    "    for sub in bad_subs:\n",
    "        f.write(sub + '\\n')"
   ]
  },
  {
   "cell_type": "code",
   "execution_count": null,
   "metadata": {},
   "outputs": [],
   "source": []
  },
  {
   "cell_type": "code",
   "execution_count": null,
   "metadata": {},
   "outputs": [],
   "source": []
  }
 ],
 "metadata": {
  "kernelspec": {
   "display_name": "tensorflow",
   "language": "python",
   "name": "python3"
  },
  "language_info": {
   "codemirror_mode": {
    "name": "ipython",
    "version": 3
   },
   "file_extension": ".py",
   "mimetype": "text/x-python",
   "name": "python",
   "nbconvert_exporter": "python",
   "pygments_lexer": "ipython3",
   "version": "3.8.13"
  }
 },
 "nbformat": 4,
 "nbformat_minor": 2
}
